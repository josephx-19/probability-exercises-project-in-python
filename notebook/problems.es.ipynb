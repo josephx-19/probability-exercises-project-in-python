{
 "cells": [
  {
   "cell_type": "markdown",
   "id": "a41f3622",
   "metadata": {},
   "source": [
    "# Ejercicios de probabilidad"
   ]
  },
  {
   "cell_type": "markdown",
   "id": "a6bdbd89",
   "metadata": {},
   "source": [
    "## Ejercicio 1 \n",
    "\n",
    "Dos dados se lanzan una vez y se observa el total obtenido. Usa una simulación para encontrar la probabilidad estimada de que la puntuación sea mayor a 7 o un número par. Una simulación es una repetición del mismo experimento multiples veces para observar su comportamiento:\n",
    "\n",
    "- Ejecuta el experimento 1000 veces (lanza 2 dados 1000 veces, y suma el número de ambos dados).\n",
    "- Lleva ua cuenta de los números y las veces que la suma fue mayor a 7 o un número par.\n",
    "- Divide el número del paso 2 entre el número de iteraciones(1000)."
   ]
  },
  {
   "cell_type": "code",
   "execution_count": 19,
   "id": "8939d892",
   "metadata": {},
   "outputs": [
    {
     "name": "stdout",
     "output_type": "stream",
     "text": [
      "[ 5  6  4  4  9  8  4  5  3  5  4  7  2  5  8  9  3  6  9  4  8  8  3  6\n",
      "  4 10  7  8 12 11  4  5 11  3  2  6 10  7  8  9  3  4  6  8 10  4  8  4\n",
      "  7  7  5  6 11  6  2  8  4  5 10  8 12  9 10  9  9 10  8  8  7  9 11  6\n",
      "  6  8 11  5  8  9  4  8  2  8  4  9  6  4  4 10 11  8  7  4  9  6  7  5\n",
      " 10  7  9  7  7 10  6  7  9  2  4  4  6  6  8  7  6  4  9 10  5  3 10 12\n",
      "  5  9  8  2  8  8  7  5  8  3  9  7  3 10  2  3  4  7  6  7  7  8  5  6\n",
      "  6  6 10  8  7  9 11  6  6 11  8  7  7  3  7  7  5 12  7  7  4 10  6  7\n",
      "  4  6  7  6  9  7  7 11  9  5 11  8  8 11 11  3  9  9  5  8  6 10  7 10\n",
      "  8  6  7  7  4  7  8  3 11  2  6  6 10 10 11 11  9  2  7 12  7  4  3  5\n",
      " 10 11  6 10  5 11  4 10  2  2  9  7  4  5 11 12  6  4  6 10  6  8  8  4\n",
      "  4  9 10  9  8  7  7 11 10  8 10  9  6  5  6  4  8  3  4  7  9  8  9  6\n",
      "  7  7  4  5  6  7  8  6  4  7  6  6 10  7  8  5  7  6  5  4 10  3  6  7\n",
      "  4  7  8  6  7 12 12  6  8  3  3  8  6  9 10 10  9  8  8  9  8 10  6  4\n",
      "  4  6  5  9  7  7  6  5 10  7  7  5  9  6 10  7  7  8  6 10  3  6 11  6\n",
      "  6  6 10  8  2 10  7  7  2  7 12  6  5  9  8  5  7  2  8 10  5  4  4 10\n",
      "  7  5  3  2  4 11  9  4  8  6  4  7 11  6  9  6  7  7  6 10  5  2  4  6\n",
      "  9  7 12  4  7  2  7  2  4  4  9  5  6  6 10 11  9  6  5  4  6  5  4  6\n",
      " 11  6  8  4  7 12 11  7  6  9  8 11  6  4  5  8  9  6  9 11  6  9  7  5\n",
      "  7 11  7  8  3  7 11  8  8  8 10  9  7  6 10  3  2  7  9 10  4  8  7  5\n",
      " 11  6  8  8  5  9  6  7  5  8 11  5  8  7  9  7  9  8  9  8  6 10  2  5\n",
      "  8 11  7  8  8  3  6  6  7  7  6  6  7  6  4  4  6  6  7  5 12  4  7  7\n",
      "  6  8  8  4  5  4  9  2  3  6  9  6  6  8  9  2  6  9  6  3 10  2  7  4\n",
      "  6  5  6  9  8  5  8 11 11  9  3  7  5  7  7  2 11  8  8  7  5  7  6  5\n",
      "  6  7  9 10  3  4  7  7  7 12  9 10  5  6  8  4  8 11  7  4  6  9  6 12\n",
      "  2  7  5  6 11 10  4  8 10  3  3 10  7  8  6  5  7  7  9  8  9  7 11  6\n",
      "  7  9  8  9  3  6  7  5  2  7 12 10 10 10  9  5  6  5  3 11  9  8  8 11\n",
      "  7  6  9  4  3 10  3  7  4 12  4  5 10  9  4  4 10  8  6  2  8  7  3  7\n",
      "  5  5  7  8  8  7  5  8  9  5  7  9  7  3 10  3 10 10  5  7  9 10  8  5\n",
      "  8  7  8  6  6  5 10  5  6  6  4 11  9  5 12  8  8  7  8  6  6  7 11  4\n",
      " 10  8  5  9  2  9  8  7  8  6  5  2  7  9  5  5  5  7  7 10 11  7  6 11\n",
      "  6  5  9  2  8  6  4  7  6  3  4  8  7  8  2  8  7  9  7 10  6  8  7  5\n",
      "  9  5  3  7  5  7  8  4  9  7  5  4  9  4  8  9  3  2  9  6 12  3  7  6\n",
      "  3  7  8  7  6  7  7  2  3 12  3  9  8  3  7  4 10  9  3  3  9  7  9  9\n",
      "  3  5  3  6  5  7  6  2  6  5  4  5  6  8  6  8  8  6  8  6  4  9  7  8\n",
      "  8  9  7  7  8 12  5  9  8  8  3  6  5  6  5 10  9  2  8  6  9  5  5  7\n",
      "  7  6  2  7  5  9 11  9  9  5  6  8  8  2  7  7  5  5  7 11  6 11  5  5\n",
      "  3  9  9  8  8  7  7 11  6  7  4  8 12  4  8  5  7  7  5  6  3  7  6  6\n",
      "  4  7  2  9  9  9  4  7  8 11  6  3  6  5  4  5 10 10  7 10 11  5  4  9\n",
      "  9  3 11  4  7  8 10  8  5 12  7  4  6  6  2  6  5  6  5  9 11  9  6 10\n",
      "  9  6  6  9  4  3  9 11  5  3  6  7  9  5  9  2  4  3 10  4  8  5  6  9\n",
      " 10  8  9  6 10  8  8  8  7  7  8  5  9  4  6 11  7  5  6  6  6  9  8  8\n",
      "  7  8 11  3  5  5  8  3  8  7  8  7  6  4  6  5]\n",
      "Cantidad de veces que la suma de dado 1+ dado 2 > 7: 396\n",
      "Cantidad de veces que la suma de dado 1+ dado 2 es un numero par: 509\n"
     ]
    }
   ],
   "source": [
    "# TODO\n",
    "import numpy as np\n",
    "\n",
    "dado1 = [1,2,3,4,5,6]\n",
    "dado2 = [1,2,3,4,5,6]\n",
    "size=1000\n",
    "\n",
    "exec_dado1 = np.random.choice(dado1, size )\n",
    "exec_dado2 = np.random.choice(dado2, size )\n",
    "\n",
    "#print(exec_dado1)\n",
    "#print(exec_dado2)\n",
    "\n",
    "print (exec_dado1 + exec_dado2)\n",
    "\n",
    "count_mayor_7=0\n",
    "count_par=0\n",
    "for i in range(size):\n",
    "    if (exec_dado1[i] + exec_dado2[i]) > 7:\n",
    "        count_mayor_7 +=1\n",
    "    if (exec_dado1[i] + exec_dado2[i]) % 2 == 0:\n",
    "        count_par +=1\n",
    "\n",
    "print(\"Cantidad de veces que la suma de dado 1+ dado 2 > 7:\",count_mayor_7 )\n",
    "print(\"Cantidad de veces que la suma de dado 1+ dado 2 es un numero par:\",count_par )\n",
    "\n",
    "\n",
    "\n"
   ]
  },
  {
   "cell_type": "markdown",
   "id": "55732bca",
   "metadata": {},
   "source": [
    "## Ejercicio 2\n",
    "\n",
    "Una caja contiene 10 bolas blancas, 20 bolas rojas y 30 bolas verdes. Si tomamos 5 bolas de la caja reemplazándolas (tomando una bola, anotando el color y luego regresandola a la caja). Queremos saber la probabilidad de:\n",
    "\n",
    "1. Tomar 3 blancas y 2 rojas.\n",
    "2. Toas todas del mismo color.\n",
    "\n",
    "Ejecuta el experimento 1000 veces y calcula las probabilidades que mencionadas."
   ]
  },
  {
   "cell_type": "code",
   "execution_count": 71,
   "id": "23244d20",
   "metadata": {},
   "outputs": [
    {
     "name": "stdout",
     "output_type": "stream",
     "text": [
      "['r', 'r', 'r', 'r', 'r', 'r', 'r', 'r', 'r', 'r', 'r', 'r', 'r', 'r', 'r', 'r', 'r', 'r', 'r', 'r', 'v', 'v', 'v', 'v', 'v', 'v', 'v', 'v', 'v', 'v', 'v', 'v', 'v', 'v', 'v', 'v', 'v', 'v', 'v', 'v', 'v', 'v', 'v', 'v', 'v', 'v', 'v', 'v', 'v', 'v', 'b', 'b', 'b', 'b', 'b', 'b', 'b', 'b', 'b', 'b']\n",
      "['b' 'r' 'b' 'r' 'b']\n",
      "['r' 'b' 'r' 'b' 'b']\n",
      "['b' 'b' 'b' 'r' 'r']\n",
      "['r' 'b' 'b' 'b' 'r']\n",
      "['r' 'b' 'r' 'b' 'b']\n",
      "cantidad de veces que salieron 3 blancas y 2 rojas: 20\n",
      "la probabilidad de sacar 3 blancas y 2 rojas en 1000 intentos es: 0.02\n",
      "['r' 'r' 'r' 'r' 'r']\n",
      "['v' 'v' 'v' 'v' 'v']\n",
      "['r' 'r' 'r' 'r' 'r']\n",
      "['v' 'v' 'v' 'v' 'v']\n",
      "['v' 'v' 'v' 'v' 'v']\n",
      "['v' 'v' 'v' 'v' 'v']\n",
      "['r' 'r' 'r' 'r' 'r']\n",
      "['v' 'v' 'v' 'v' 'v']\n",
      "['r' 'r' 'r' 'r' 'r']\n",
      "['v' 'v' 'v' 'v' 'v']\n",
      "['v' 'v' 'v' 'v' 'v']\n",
      "['v' 'v' 'v' 'v' 'v']\n",
      "['v' 'v' 'v' 'v' 'v']\n",
      "['v' 'v' 'v' 'v' 'v']\n",
      "['v' 'v' 'v' 'v' 'v']\n",
      "['r' 'r' 'r' 'r' 'r']\n",
      "['v' 'v' 'v' 'v' 'v']\n",
      "['v' 'v' 'v' 'v' 'v']\n",
      "['v' 'v' 'v' 'v' 'v']\n",
      "['v' 'v' 'v' 'v' 'v']\n",
      "['v' 'v' 'v' 'v' 'v']\n",
      "['v' 'v' 'v' 'v' 'v']\n",
      "['v' 'v' 'v' 'v' 'v']\n",
      "['v' 'v' 'v' 'v' 'v']\n",
      "['v' 'v' 'v' 'v' 'v']\n",
      "['v' 'v' 'v' 'v' 'v']\n",
      "['v' 'v' 'v' 'v' 'v']\n",
      "['v' 'v' 'v' 'v' 'v']\n",
      "['v' 'v' 'v' 'v' 'v']\n",
      "['r' 'r' 'r' 'r' 'r']\n",
      "['v' 'v' 'v' 'v' 'v']\n",
      "['v' 'v' 'v' 'v' 'v']\n",
      "['v' 'v' 'v' 'v' 'v']\n",
      "['v' 'v' 'v' 'v' 'v']\n",
      "['v' 'v' 'v' 'v' 'v']\n",
      "['r' 'r' 'r' 'r' 'r']\n",
      "['r' 'r' 'r' 'r' 'r']\n",
      "['v' 'v' 'v' 'v' 'v']\n",
      "['v' 'v' 'v' 'v' 'v']\n",
      "cantidad de veces que salieron todas del mismo color: 39\n",
      "la probabilidad de sacar todas del mismo color en 1000 intentos es: 0.039\n"
     ]
    }
   ],
   "source": [
    "box =[\"r\"]*20 + [\"v\"]*30 + [\"b\"]*10\n",
    "print(box)\n",
    "\n",
    "result=[]\n",
    "trial=1000\n",
    "count1=0\n",
    "count2=0\n",
    "\n",
    "for i in range(trial):\n",
    "    result.append(np.random.choice(box,5,replace=True))\n",
    "\n",
    "for i in range(len(result)):\n",
    "    if ((np.array(result[i]) ==\"b\").sum()) == 3 and ((np.array(result[i]) ==\"r\").sum()) == 2:\n",
    "        count +=1\n",
    "        print(result[i])\n",
    "print(\"cantidad de veces que salieron 3 blancas y 2 rojas:\",count)\n",
    "print(\"la probabilidad de sacar 3 blancas y 2 rojas en 1000 intentos es:\",count/1000)\n",
    "\n",
    "for i in range(len(result)):\n",
    "    if ((np.array(result[i]) ==\"b\").sum()) == 5 or ((np.array(result[i]) ==\"r\").sum()) == 5 or ((np.array(result[i]) ==\"v\").sum()) == 5:\n",
    "        count2 +=1\n",
    "        print(result[i])\n",
    "print(\"cantidad de veces que salieron todas del mismo color:\",count2)\n",
    "print(\"la probabilidad de sacar todas del mismo color en 1000 intentos es:\",count2/1000)\n",
    "\n",
    "\n",
    "\n",
    "\n",
    "\n",
    "\n",
    "      \n",
    "\n",
    "\n",
    "    \n",
    "\n",
    "\n",
    "\n",
    "\n"
   ]
  },
  {
   "cell_type": "code",
   "execution_count": 57,
   "id": "f4dcbd06",
   "metadata": {},
   "outputs": [
    {
     "name": "stdout",
     "output_type": "stream",
     "text": [
      "hola\n"
     ]
    }
   ],
   "source": [
    "c=[\"r\",\"b\",\"b\",\"r\",\"b\"]\n",
    "if ((np.array(c)==\"b\").sum()) ==3:\n",
    "    print(\"hola\")"
   ]
  },
  {
   "cell_type": "code",
   "execution_count": null,
   "id": "dd85a076",
   "metadata": {},
   "outputs": [],
   "source": []
  }
 ],
 "metadata": {
  "kernelspec": {
   "display_name": "Python 3",
   "language": "python",
   "name": "python3"
  },
  "language_info": {
   "codemirror_mode": {
    "name": "ipython",
    "version": 3
   },
   "file_extension": ".py",
   "mimetype": "text/x-python",
   "name": "python",
   "nbconvert_exporter": "python",
   "pygments_lexer": "ipython3",
   "version": "3.11.4"
  }
 },
 "nbformat": 4,
 "nbformat_minor": 5
}
